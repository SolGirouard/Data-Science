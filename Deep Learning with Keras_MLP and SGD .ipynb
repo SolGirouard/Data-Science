{
 "cells": [
  {
   "cell_type": "markdown",
   "metadata": {},
   "source": [
    "# Introduction\n",
    "\n",
    "Deep learning has recently significantly advanced the state of the art in machine learning. It seems almost like the field has found the magic bullet that can do it all, from face recognition to natural language processing. The goal of this notebook and the following notebooks is to first explain the concepts behind deep learning on an intuitive level with practical tips, enabeling you to get up and running with designing your own deep networks and training them with keras and tensorflow. Second, I am trying to convey a sense of what makes deep learning useful, how to gain insights into what the networks have learned, and last not least what the limitations are and in what cases other classification or regression methods might be a better tool for the job. \n",
    "\n",
    "# Logistics\n",
    "This notebook assumes that you have [keras](https://keras.io/) installed on your system. Keras is a high level deep learning library, which recently became the official high level front end for [tensorflow](https://www.tensorflow.org/). For the purpose of this notebook it is also fine to have the [theano](http://deeplearning.net/software/theano/install.html) backend for keras instead of tensorflow. Under windows I had more success with getting theano to run with GPU support than tensorflow, but these setups might change. Also this notebook uses Python 3.5, because it is the python version supported by tensorflow under windows. If you are under Linux you should have non problem to get either of these libraries to run with python 3.5. \n",
    "\n",
    "To make sure that you don't get frustrated by having to install additional packages later on in the notebook, I list all imporant imports here at the beginning in the order they are needed later on. So if you can execute the following cell without any import errors you are ready to go!"
   ]
  },
  {
   "cell_type": "code",
   "execution_count": 1,
   "metadata": {
    "collapsed": true
   },
   "outputs": [],
   "source": [
    "# All imports necessary for this notebook"
   ]
  },
  {
   "cell_type": "markdown",
   "metadata": {},
   "source": [
    "# Deep learning a brief history\n",
    "TBD"
   ]
  },
  {
   "cell_type": "markdown",
   "metadata": {},
   "source": [
    "# The Perceptron\n",
    "\n",
    "The perceptron is the basic unit of a deep neural network. As you read above, it caused quite a hype when it was invented, because it can be interpreted as a very simplified model of a neuron. However, we are also going to see that it actually is nothing else than a separating hyperplane, that can be fitted between two point clouds for classification. \n",
    "\n",
    "Let's start with the concept of the separating hyperplane. \n",
    "\n",
    "<img src=\"./Figures/DL_SeparatingHyperplane.png\" width=\"25%\" height=\"25%\"/>"
   ]
  },
  {
   "cell_type": "markdown",
   "metadata": {},
   "source": [
    "The figure above shows two point clouds. Each point stands for a sample in our training set. If we find a good position for a separating hyperplane (the green line) between the two point clouds , we can make predictions for other points, that are not part of our training set. If a point lies on the right side of the hyperplane we label it as yellow, if it lies on the left side we label it as blue. We can describe the separating hyperplane with an orthogonal vector $w$ and an offset vector $b$. The vector $w$ describes the orientation of the hyperplane. If we rotate $w$, then the hyperplane rotates as well, because it defined as always being orthogonal to $w$. The vector is called $w$ because we will later see that it describes the weights of the perceptron. The offset vector is used to shift our hyperplane around. The b stands for bias. \n",
    "\n",
    "How do we determine if a new point that we want to classifier is on the right or the left side of the hyperplane? \n"
   ]
  },
  {
   "cell_type": "code",
   "execution_count": null,
   "metadata": {
    "collapsed": true
   },
   "outputs": [],
   "source": []
  }
 ],
 "metadata": {
  "kernelspec": {
   "display_name": "Python 3",
   "language": "python",
   "name": "python3"
  },
  "language_info": {
   "codemirror_mode": {
    "name": "ipython",
    "version": 3
   },
   "file_extension": ".py",
   "mimetype": "text/x-python",
   "name": "python",
   "nbconvert_exporter": "python",
   "pygments_lexer": "ipython3",
   "version": "3.5.2"
  }
 },
 "nbformat": 4,
 "nbformat_minor": 2
}
