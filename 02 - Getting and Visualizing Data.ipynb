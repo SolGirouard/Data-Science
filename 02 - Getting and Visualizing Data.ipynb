{
 "cells": [
  {
   "cell_type": "code",
   "execution_count": 1,
   "metadata": {
    "collapsed": true
   },
   "outputs": [],
   "source": [
    "# imports"
   ]
  },
  {
   "cell_type": "markdown",
   "metadata": {},
   "source": [
    "# Asking Questions and Gathering Data\n",
    "The first two stages of the data science process are to ask an interesting question and then to gather the data to answer this question. Interesting questions that can be answered with data science range from \"Where can I look for a new apartment when I am willing to not commute longer than X minutes\", to \"Which products should we prominently feature on our company website to maximize customer satisfaction\" and even to \"Does the Higgs boson really exist?\". Note that the question here comes first, and then we set out to see which data we can collect to answer it. For the commute question we could for example go to google.maps and look at commute times during rush hour, which might deviate a lot from the commute times at off peak times. For the question about customer satisfaction it might be necessary to start and gather more data about user behavior on the webpage. Like on which pages people spend the longest time, and which images are likely to be clicked on. The question about the Higgs boson even led to the construction of CERN's Large Hadron Collider, one of the world's most expensive and complex experimental facilities to date. \n",
    "\n",
    "Luckily a lot of data science question do not require the building of complex hardware or even software. The internet is a vast source of information, from already collected data sets like the ones at the [UCI machine learning repository](https://archive.ics.uci.edu/ml/datasets.html), to data bases about customer ratings like [yelp](https://www.yelp.com/boston) for restaurants or [the internet movie database](http://www.imdb.com/) for movies, and just plain web pages, like [Wikipedia](https://www.wikipedia.org/) or [Stackoverflow](https://stackoverflow.com/). \n",
    "\n",
    "In short there are three different ways to gather data from the internet:\n",
    "\n",
    "1. download already assembled data sets\n",
    "2. access a database via an API\n",
    "3. scrape information from web pages\n",
    "\n"
   ]
  },
  {
   "cell_type": "code",
   "execution_count": null,
   "metadata": {
    "collapsed": true
   },
   "outputs": [],
   "source": []
  }
 ],
 "metadata": {
  "kernelspec": {
   "display_name": "Python 3",
   "language": "python",
   "name": "python3"
  },
  "language_info": {
   "codemirror_mode": {
    "name": "ipython",
    "version": 3
   },
   "file_extension": ".py",
   "mimetype": "text/x-python",
   "name": "python",
   "nbconvert_exporter": "python",
   "pygments_lexer": "ipython3",
   "version": "3.5.2"
  }
 },
 "nbformat": 4,
 "nbformat_minor": 2
}
